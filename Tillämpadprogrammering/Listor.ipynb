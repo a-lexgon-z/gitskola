{
 "metadata": {
  "language_info": {
   "codemirror_mode": {
    "name": "ipython",
    "version": 3
   },
   "file_extension": ".py",
   "mimetype": "text/x-python",
   "name": "python",
   "nbconvert_exporter": "python",
   "pygments_lexer": "ipython3",
   "version": "3.9.0-final"
  },
  "orig_nbformat": 2,
  "kernelspec": {
   "name": "python3",
   "display_name": "Python 3.9.0 64-bit",
   "metadata": {
    "interpreter": {
     "hash": "231a17f392a4dd89dcd7afbec2790d91de603f72d54a0988848d68d84b16032b"
    }
   }
  }
 },
 "nbformat": 4,
 "nbformat_minor": 2,
 "cells": [
  {
   "cell_type": "code",
   "execution_count": 47,
   "metadata": {},
   "outputs": [
    {
     "output_type": "stream",
     "name": "stdout",
     "text": [
      "10\n8\n6\n4\n2\nsumman är 3840\n"
     ]
    }
   ],
   "source": [
    "#m04u01\n",
    "summa = 1\n",
    "for i in range (10,1,-2):\n",
    "    print(i)\n",
    "    summa *=i\n",
    "print(f\"summan är\",summa)"
   ]
  },
  {
   "cell_type": "code",
   "execution_count": null,
   "metadata": {},
   "outputs": [],
   "source": [
    "#m04u02\n",
    "summa = float(input(\"Ange sparbelopp: \"))\n",
    "start = 1\n",
    "stopp = int(input(\"Ange antal år: \"))\n",
    "ränta = float(input(\"Ange ränta: \"))\n",
    "\n",
    "for i in range (start, stopp+1):\n",
    "    summa *= ränta\n",
    "    if i % 1 == 0:\n",
    "        print(\"År: {} Summan: {}\".format(i, summa))\n",
    "else:\n",
    "    print(\"Totalsumma: {}\".format(summa))"
   ]
  },
  {
   "cell_type": "code",
   "execution_count": null,
   "metadata": {},
   "outputs": [],
   "source": [
    "#m04u04\n",
    "lista = [\"Apple\",\"orange\",\"banana\",\"banana\",\"monkey\"]\n",
    "\n",
    "for item in lista:\n",
    "    print(lista)\n"
   ]
  },
  {
   "cell_type": "code",
   "execution_count": 12,
   "metadata": {
    "tags": []
   },
   "outputs": [
    {
     "output_type": "stream",
     "name": "stdout",
     "text": [
      "1\n2\n3\n4\n5\n6\n7\n8\n9\n10\n"
     ]
    }
   ],
   "source": [
    "i = 0\n",
    "while i < 10:\n",
    "    i += 1\n",
    "    print(i)"
   ]
  },
  {
   "cell_type": "code",
   "execution_count": null,
   "metadata": {},
   "outputs": [],
   "source": []
  }
 ]
}