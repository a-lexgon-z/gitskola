{
 "metadata": {
  "language_info": {
   "codemirror_mode": {
    "name": "ipython",
    "version": 3
   },
   "file_extension": ".py",
   "mimetype": "text/x-python",
   "name": "python",
   "nbconvert_exporter": "python",
   "pygments_lexer": "ipython3",
   "version": "3.9.0-final"
  },
  "orig_nbformat": 2,
  "kernelspec": {
   "name": "python3",
   "display_name": "Python 3.9.0 64-bit",
   "metadata": {
    "interpreter": {
     "hash": "231a17f392a4dd89dcd7afbec2790d91de603f72d54a0988848d68d84b16032b"
    }
   }
  }
 },
 "nbformat": 4,
 "nbformat_minor": 2,
 "cells": [
  {
   "cell_type": "code",
   "execution_count": null,
   "metadata": {},
   "outputs": [],
   "source": [
    "#m04u01\n",
    "summa = 1\n",
    "for i in range (10,1,-2):\n",
    "    print(i)\n",
    "    summa *=i\n",
    "print(f\"summan är\",summa)"
   ]
  },
  {
   "cell_type": "code",
   "execution_count": null,
   "metadata": {},
   "outputs": [],
   "source": [
    "#m04u02\n",
    "summa = float(input(\"Ange sparbelopp: \"))\n",
    "start = 1\n",
    "stopp = int(input(\"Ange antal år: \"))\n",
    "ränta = float(input(\"Ange ränta: \"))\n",
    "\n",
    "for i in range (start, stopp+1):\n",
    "    summa *= ränta\n",
    "    if i % 1 == 0:\n",
    "        print(\"År: {} Summan: {}\".format(i, summa))\n",
    "else:\n",
    "    print(\"Totalsumma: {}\".format(summa))"
   ]
  },
  {
   "cell_type": "code",
   "execution_count": 17,
   "metadata": {},
   "outputs": [
    {
     "output_type": "stream",
     "name": "stdout",
     "text": [
      "Höjden: 1 |\n",
      "ok 15\n",
      "Höjden: 2 |\n",
      "ok 15\n",
      "Höjden: 3 |\n",
      "ok 15\n",
      "Höjden: 4 |\n",
      "ok 15\n",
      "Höjden: 5 |\n",
      "ok 15\n",
      "Höjden: 6 |\n",
      "ok 15\n",
      "Höjden: 7 |\n",
      "ok 15\n",
      "Höjden: 8 |\n",
      "ok 15\n",
      "Höjden: 9 |\n",
      "ok 15\n",
      "Höjden: 10 |\n",
      "ok 15\n",
      "\n"
     ]
    }
   ],
   "source": [
    "#moment04\n",
    "e = int(input(\"Ange rektangelns ena sida: \"))\n",
    "a = int(input(\"Ange rektangelns andra sida: \"))\n",
    "\n",
    "if e == a:\n",
    "    print(\"Lika sidor betyder att det är en kvadrat.\")\n",
    "else:\n",
    "    for höjd in range(1,11):\n",
    "        print(\"Höjden: {} |\".format(e*a))\n",
    "    #print(\"Rektangelns höjd är {}, bas är {}\".format(höjd,bas))\n",
    "    #print(\"Volym: höjden x basen = {}\".format(bas*höjd))\n",
    "\n",
    "\n",
    "bruh = input(\"Ny utträckning: (J/N)?\")\n",
    "if bruh == \"J\":\n",
    "    print(\"bru\")\n",
    "elif bruh == \"N\":\n",
    "    print(\"\")\n",
    "\n"
   ]
  },
  {
   "cell_type": "code",
   "execution_count": null,
   "metadata": {},
   "outputs": [],
   "source": []
  }
 ]
}