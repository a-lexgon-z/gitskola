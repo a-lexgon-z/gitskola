{
 "metadata": {
  "language_info": {
   "codemirror_mode": {
    "name": "ipython",
    "version": 3
   },
   "file_extension": ".py",
   "mimetype": "text/x-python",
   "name": "python",
   "nbconvert_exporter": "python",
   "pygments_lexer": "ipython3",
   "version": "3.9.0-final"
  },
  "orig_nbformat": 2,
  "kernelspec": {
   "name": "python3",
   "display_name": "Python 3.9.0 64-bit",
   "metadata": {
    "interpreter": {
     "hash": "231a17f392a4dd89dcd7afbec2790d91de603f72d54a0988848d68d84b16032b"
    }
   }
  }
 },
 "nbformat": 4,
 "nbformat_minor": 2,
 "cells": [
  {
   "cell_type": "code",
   "execution_count": null,
   "metadata": {},
   "outputs": [],
   "source": [
    "#m04u01\n",
    "summa = 1\n",
    "for i in range (10,1,-2):\n",
    "    print(i)\n",
    "    summa *=i\n",
    "print(f\"summan är\",summa)"
   ]
  },
  {
   "cell_type": "code",
   "execution_count": null,
   "metadata": {},
   "outputs": [],
   "source": [
    "#m04u02\n",
    "summa = float(input(\"Ange sparbelopp: \"))\n",
    "start = 1\n",
    "stopp = int(input(\"Ange antal år: \"))\n",
    "ränta = float(input(\"Ange ränta: \"))\n",
    "\n",
    "for i in range (start, stopp+1):\n",
    "    summa *= ränta\n",
    "    if i % 1 == 0:\n",
    "        print(\"År: {} Summan: {}\".format(i, summa))\n",
    "else:\n",
    "    print(\"Totalsumma: {}\".format(summa))"
   ]
  },
  {
   "cell_type": "code",
   "execution_count": null,
   "metadata": {},
   "outputs": [],
   "source": [
    "#moment04\n",
    "höjd = int(input(\"Ange rektangelns höjd: \"))\n",
    "bas = int(input(\"Ange rektangelns bas: \"))\n",
    "\n",
    "if höjd == bas:\n",
    "    print(\"Lika sidor betyder att det är en kvadrat.\")\n",
    "else:\n",
    "    print(\"Rektangelns höjd är {}, bas är {}\".format(höjd,bas))\n",
    "    print(\"Volym: höjden x basen = {}\".format(bas*höjd))\n",
    "    for höjd in range(höjd,11):\n",
    "        print(\"Höjden: {} | Volymen: {}\".format(höjd,höjd*bas))"
   ]
  },
  {
   "cell_type": "code",
   "execution_count": null,
   "metadata": {},
   "outputs": [],
   "source": []
  }
 ]
}