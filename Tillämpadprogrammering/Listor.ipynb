{
 "metadata": {
  "language_info": {
   "codemirror_mode": {
    "name": "ipython",
    "version": 3
   },
   "file_extension": ".py",
   "mimetype": "text/x-python",
   "name": "python",
   "nbconvert_exporter": "python",
   "pygments_lexer": "ipython3",
   "version": "3.8.3-final"
  },
  "orig_nbformat": 2,
  "kernelspec": {
   "name": "python3",
   "display_name": "Python 3"
  }
 },
 "nbformat": 4,
 "nbformat_minor": 2,
 "cells": [
  {
   "cell_type": "code",
   "execution_count": null,
   "metadata": {},
   "outputs": [],
   "source": [
    "#m04u01\n",
    "summa = 1\n",
    "for i in range (10,1,-2):\n",
    "    print(i)\n",
    "    summa *=i\n",
    "print(f\"summan är\",summa)"
   ]
  },
  {
   "cell_type": "code",
   "execution_count": 2,
   "metadata": {},
   "outputs": [
    {
     "output_type": "stream",
     "name": "stdout",
     "text": [
      "År: 1 Summan: 12.0\nÅr: 2 Summan: 72.0\nÅr: 3 Summan: 432.0\nÅr: 4 Summan: 2592.0\nÅr: 5 Summan: 15552.0\nÅr: 6 Summan: 93312.0\nTotalsumma: 93312.0\n"
     ]
    }
   ],
   "source": [
    "#m04u02\n",
    "summa = float(input(\"Ange sparbelopp: \"))\n",
    "start = 1\n",
    "stopp = int(input(\"Ange antal år: \"))\n",
    "ränta = float(input(\"Ange ränta: \"))\n",
    "\n",
    "for i in range (start, stopp+1):\n",
    "    summa *= ränta\n",
    "    if i % 1 == 0:\n",
    "        print(\"År: {} Summan: {}\".format(i, summa))\n",
    "else:\n",
    "    print(\"Totalsumma: {}\".format(summa))"
   ]
  },
  {
   "cell_type": "code",
   "execution_count": 5,
   "metadata": {},
   "outputs": [
    {
     "output_type": "stream",
     "name": "stdout",
     "text": [
      "Höjden: 1 | Volym 24\nHöjden: 2 | Volym 48\nHöjden: 3 | Volym 72\nHöjden: 4 | Volym 96\nHöjden: 5 | Volym 120\nHöjden: 6 | Volym 144\nHöjden: 7 | Volym 168\nHöjden: 8 | Volym 192\nHöjden: 9 | Volym 216\nHöjden: 10 | Volym 240\n"
     ]
    }
   ],
   "source": [
    "#moment04\n",
    "e = int(input(\"Ange rektangelns ena sida: \"))\n",
    "a = int(input(\"Ange rektangelns andra sida: \"))\n",
    "\n",
    "if e == a:\n",
    "    print(\"Lika sidor betyder att det är en kvadrat.\")\n",
    "else:\n",
    "    for höjd in range(1,11):\n",
    "        print(\"Höjden: {} | Volym {}\".format(höjd,e*a*höjd))\n",
    "    #print(\"Rektangelns höjd är {}, bas är {}\".format(höjd,bas))\n",
    "    #print(\"Volym: höjden x basen = {}\".format(bas*höjd))\n",
    "\n",
    "\n",
    "bruh = input(\"Ny utträckning: (J/N)?\")\n",
    "if bruh == \"J\":\n",
    "    (input(\"Ange rektangelns ena sida: \"))\n",
    "    (input(\"Ange rektangelns andra sida: \"))\n",
    "    for höjd in range(1,11):\n",
    "        print(\"Höjden: {} | Volym {}\".format(höjd,e*a*höjd))\n",
    "elif bruh == \"N\":\n",
    "    print(\"\")\n",
    "\n"
   ]
  },
  {
   "cell_type": "code",
   "execution_count": null,
   "metadata": {},
   "outputs": [],
   "source": []
  }
 ]
}