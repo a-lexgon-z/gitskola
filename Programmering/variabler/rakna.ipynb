{
 "metadata": {
  "language_info": {
   "codemirror_mode": {
    "name": "ipython",
    "version": 3
   },
   "file_extension": ".py",
   "mimetype": "text/x-python",
   "name": "python",
   "nbconvert_exporter": "python",
   "pygments_lexer": "ipython3",
   "version": "3.8.5-final"
  },
  "orig_nbformat": 2,
  "kernelspec": {
   "name": "python_defaultSpec_1599590873316",
   "display_name": "Python 3.8.5 32-bit"
  }
 },
 "nbformat": 4,
 "nbformat_minor": 2,
 "cells": [
  {
   "cell_type": "code",
   "execution_count": 39,
   "metadata": {
    "tags": []
   },
   "outputs": [
    {
     "output_type": "stream",
     "name": "stdout",
     "text": "0.0 Kelvin är -273.15 °C\n"
    }
   ],
   "source": [
    "K = float(input(\"Ange K: \"))\n",
    "C = K - 273.15\n",
    "\n",
    "print(f\"{K} Kelvin är {C} °C\")"
   ]
  },
  {
   "cell_type": "code",
   "execution_count": 40,
   "metadata": {
    "tags": []
   },
   "outputs": [
    {
     "output_type": "stream",
     "name": "stdout",
     "text": "-273.15 Celcius är 0.0 K\n"
    }
   ],
   "source": [
    "C = float(input(\"Ange C: \"))\n",
    "K = C + 273.15\n",
    "\n",
    "print (f\"{C} Celcius är {K} K\")"
   ]
  },
  {
   "cell_type": "code",
   "execution_count": 28,
   "metadata": {
    "tags": []
   },
   "outputs": [
    {
     "output_type": "stream",
     "name": "stdout",
     "text": "Smartaste köpet är månadskort\n2 resor kommer kosta 60kr\nMånadskort: 775kr\n"
    }
   ],
   "source": [
    "resa = int(input(\"Antal resor: \"))\n",
    "Kort = 775\n",
    "Biljett = 30\n",
    "\n",
    "if resa >= 25:\n",
    "    if resa == 0:\n",
    "        print(\"Ogiltligt nummer\")\n",
    "    else:\n",
    "        print(\"Smartaste köpet är månadskort\")\n",
    "        print(f\"{resa} resor kommer kosta {Biljett * resa}kr\")\n",
    "        print(\"Månadskort: 775kr\")\n",
    "else:\n",
    "        print(\"Smartaste köpet är engångsbiljetter\")\n",
    "        print(f\"{resa} resor kommer kosta {Biljett * resa}kr\")\n",
    "        print(\"Månadskort: 775kr\")"
   ]
  },
  {
   "cell_type": "code",
   "execution_count": null,
   "metadata": {},
   "outputs": [],
   "source": []
  }
 ]
}
