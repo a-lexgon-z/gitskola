{
 "metadata": {
  "language_info": {
   "codemirror_mode": {
    "name": "ipython",
    "version": 3
   },
   "file_extension": ".py",
   "mimetype": "text/x-python",
   "name": "python",
   "nbconvert_exporter": "python",
   "pygments_lexer": "ipython3",
   "version": "3.8.5-final"
  },
  "orig_nbformat": 2,
  "kernelspec": {
   "name": "python_defaultSpec_1600682569567",
   "display_name": "Python 3.8.5 32-bit"
  }
 },
 "nbformat": 4,
 "nbformat_minor": 2,
 "cells": [
  {
   "cell_type": "code",
   "execution_count": 2,
   "metadata": {
    "tags": []
   },
   "outputs": [
    {
     "output_type": "stream",
     "name": "stdout",
     "text": "Noll är varken negativt eller positivt\n"
    }
   ],
   "source": [
    "tal = int(input(\"Ange ett heltal: \"))\n",
    "\n",
    "if tal >0:\n",
    "    print(f\"{tal} är ett positivt tal\")\n",
    "elif tal == 0:\n",
    "    print(\"Noll är varken negativt eller positivt\")\n",
    "else:\n",
    "    print(f\"{tal} är ett negativt tal\")"
   ]
  },
  {
   "source": [
    "tal = int(input(\"Ange ett heltal: \"))\n",
    "\n",
    "if tal % 2:\n",
    "    print(f\"{tal} är ett udda tal\")\n",
    "else:\n",
    "    print(f\"{tal} är ett jämnt tal\")\n",
    "\n",
    "if tal % 5 == 0:\n",
    "    print(\"Ditt tal är delbart med 5\")"
   ],
   "cell_type": "code",
   "metadata": {
    "tags": []
   },
   "execution_count": 4,
   "outputs": [
    {
     "output_type": "stream",
     "name": "stdout",
     "text": "35 är ett udda tal\nDitt tal är delbart med 5\n"
    }
   ]
  },
  {
   "cell_type": "code",
   "execution_count": 10,
   "metadata": {
    "tags": []
   },
   "outputs": [
    {
     "output_type": "stream",
     "name": "stdout",
     "text": "2.0 > 1.0\n"
    }
   ],
   "source": [
    "tal1 = float(input(\"Ange det första talet: \"))\n",
    "tal2 = float(input(\"Ange det andra talet: \"))\n",
    "\n",
    "if tal1 > tal2:\n",
    "    print(f\"{tal1} > {tal2}\")\n",
    "elif tal2 > tal1:\n",
    "    print(f\"{tal1} < {tal2}\")\n",
    "else:\n",
    "    print(f\"{tal1} = {tal2}\")"
   ]
  },
  {
   "cell_type": "code",
   "execution_count": 39,
   "metadata": {
    "tags": []
   },
   "outputs": [
    {
     "output_type": "stream",
     "name": "stdout",
     "text": "Hel\n"
    }
   ],
   "source": [
    "v = float(input(\"Ange en grad vinkel: \"))\n",
    "\n",
    "if v == 0:\n",
    "    print(\"Fake\")\n",
    "elif v > 0 and v < 90:\n",
    "    print(\"Spetsig\")\n",
    "elif v == 90:\n",
    "    print(\"Rät\")\n",
    "elif v > 90 and v < 180:\n",
    "    print(\"Trubbig\")\n",
    "elif v == 180:\n",
    "    print(\"Halv\")\n",
    "elif v > 180 and v < 360:\n",
    "    print(\"Konvex\")\n",
    "elif v == 360:\n",
    "    print(\"Hel\")"
   ]
  },
  {
   "cell_type": "code",
   "execution_count": null,
   "metadata": {},
   "outputs": [],
   "source": []
  }
 ]
}