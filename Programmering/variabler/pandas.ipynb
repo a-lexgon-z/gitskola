{
 "metadata": {
  "language_info": {
   "codemirror_mode": {
    "name": "ipython",
    "version": 3
   },
   "file_extension": ".py",
   "mimetype": "text/x-python",
   "name": "python",
   "nbconvert_exporter": "python",
   "pygments_lexer": "ipython3",
   "version": "3.9.2-final"
  },
  "orig_nbformat": 2,
  "kernelspec": {
   "name": "python3",
   "display_name": "Python 3.9.2 64-bit",
   "metadata": {
    "interpreter": {
     "hash": "ac59ebe37160ed0dfa835113d9b8498d9f09ceb179beaac4002f036b9467c963"
    }
   }
  }
 },
 "nbformat": 4,
 "nbformat_minor": 2,
 "cells": [
  {
   "cell_type": "code",
   "execution_count": 6,
   "metadata": {},
   "outputs": [
    {
     "output_type": "execute_result",
     "data": {
      "text/plain": [
       "                                       Befolkningen 16+ �r efter syssels�ttning, �lder, k�n och �r\n",
       "syssels�ttning       �lder    k�n                                                   2019          \n",
       "f�rv�rvsarbetande    16-19 �r m�n                                                  58826          \n",
       "                              kvinnor                                              72847          \n",
       "                     20-24 �r m�n                                                 192696          \n",
       "                              kvinnor                                             174074          \n",
       "                     25-29 �r m�n                                                 293352          \n",
       "                              kvinnor                                             268587          \n",
       "                     30-34 �r m�n                                                 303019          \n",
       "                              kvinnor                                             271975          \n",
       "                     35-39 �r m�n                                                 280522          \n",
       "                              kvinnor                                             255391          \n",
       "                     40-44 �r m�n                                                 275085          \n",
       "                              kvinnor                                             260093          \n",
       "ej f�rv�rvsarbetande 16-19 �r m�n                                                 176860          \n",
       "                              kvinnor                                             143432          \n",
       "                     20-24 �r m�n                                                 117928          \n",
       "                              kvinnor                                             103001          \n",
       "                     25-29 �r m�n                                                  86633          \n",
       "                              kvinnor                                              91124          \n",
       "                     30-34 �r m�n                                                  64162          \n",
       "                              kvinnor                                              76735          \n",
       "                     35-39 �r m�n                                                  53373          \n",
       "                              kvinnor                                              61312          \n",
       "                     40-44 �r m�n                                                  46857          \n",
       "                              kvinnor                                              49228          "
      ],
      "text/html": "<div>\n<style scoped>\n    .dataframe tbody tr th:only-of-type {\n        vertical-align: middle;\n    }\n\n    .dataframe tbody tr th {\n        vertical-align: top;\n    }\n\n    .dataframe thead th {\n        text-align: right;\n    }\n</style>\n<table border=\"1\" class=\"dataframe\">\n  <thead>\n    <tr style=\"text-align: right;\">\n      <th></th>\n      <th></th>\n      <th></th>\n      <th>Befolkningen 16+ �r efter syssels�ttning, �lder, k�n och �r</th>\n    </tr>\n  </thead>\n  <tbody>\n    <tr>\n      <th>syssels�ttning</th>\n      <th>�lder</th>\n      <th>k�n</th>\n      <td>2019</td>\n    </tr>\n    <tr>\n      <th rowspan=\"12\" valign=\"top\">f�rv�rvsarbetande</th>\n      <th rowspan=\"2\" valign=\"top\">16-19 �r</th>\n      <th>m�n</th>\n      <td>58826</td>\n    </tr>\n    <tr>\n      <th>kvinnor</th>\n      <td>72847</td>\n    </tr>\n    <tr>\n      <th rowspan=\"2\" valign=\"top\">20-24 �r</th>\n      <th>m�n</th>\n      <td>192696</td>\n    </tr>\n    <tr>\n      <th>kvinnor</th>\n      <td>174074</td>\n    </tr>\n    <tr>\n      <th rowspan=\"2\" valign=\"top\">25-29 �r</th>\n      <th>m�n</th>\n      <td>293352</td>\n    </tr>\n    <tr>\n      <th>kvinnor</th>\n      <td>268587</td>\n    </tr>\n    <tr>\n      <th rowspan=\"2\" valign=\"top\">30-34 �r</th>\n      <th>m�n</th>\n      <td>303019</td>\n    </tr>\n    <tr>\n      <th>kvinnor</th>\n      <td>271975</td>\n    </tr>\n    <tr>\n      <th rowspan=\"2\" valign=\"top\">35-39 �r</th>\n      <th>m�n</th>\n      <td>280522</td>\n    </tr>\n    <tr>\n      <th>kvinnor</th>\n      <td>255391</td>\n    </tr>\n    <tr>\n      <th rowspan=\"2\" valign=\"top\">40-44 �r</th>\n      <th>m�n</th>\n      <td>275085</td>\n    </tr>\n    <tr>\n      <th>kvinnor</th>\n      <td>260093</td>\n    </tr>\n    <tr>\n      <th rowspan=\"12\" valign=\"top\">ej f�rv�rvsarbetande</th>\n      <th rowspan=\"2\" valign=\"top\">16-19 �r</th>\n      <th>m�n</th>\n      <td>176860</td>\n    </tr>\n    <tr>\n      <th>kvinnor</th>\n      <td>143432</td>\n    </tr>\n    <tr>\n      <th rowspan=\"2\" valign=\"top\">20-24 �r</th>\n      <th>m�n</th>\n      <td>117928</td>\n    </tr>\n    <tr>\n      <th>kvinnor</th>\n      <td>103001</td>\n    </tr>\n    <tr>\n      <th rowspan=\"2\" valign=\"top\">25-29 �r</th>\n      <th>m�n</th>\n      <td>86633</td>\n    </tr>\n    <tr>\n      <th>kvinnor</th>\n      <td>91124</td>\n    </tr>\n    <tr>\n      <th rowspan=\"2\" valign=\"top\">30-34 �r</th>\n      <th>m�n</th>\n      <td>64162</td>\n    </tr>\n    <tr>\n      <th>kvinnor</th>\n      <td>76735</td>\n    </tr>\n    <tr>\n      <th rowspan=\"2\" valign=\"top\">35-39 �r</th>\n      <th>m�n</th>\n      <td>53373</td>\n    </tr>\n    <tr>\n      <th>kvinnor</th>\n      <td>61312</td>\n    </tr>\n    <tr>\n      <th rowspan=\"2\" valign=\"top\">40-44 �r</th>\n      <th>m�n</th>\n      <td>46857</td>\n    </tr>\n    <tr>\n      <th>kvinnor</th>\n      <td>49228</td>\n    </tr>\n  </tbody>\n</table>\n</div>"
     },
     "metadata": {},
     "execution_count": 6
    }
   ],
   "source": [
    "import pandas as pn\n",
    "import matplotlib.pyplot as plt\n",
    "import numpy as np\n",
    "# Uppgift 1\n",
    "\n",
    "df = pn.read_csv(\"sysselsattning.csv\")\n",
    "df"
   ]
  },
  {
   "cell_type": "code",
   "execution_count": null,
   "metadata": {},
   "outputs": [],
   "source": []
  }
 ]
}