{
 "metadata": {
  "language_info": {
   "codemirror_mode": {
    "name": "ipython",
    "version": 3
   },
   "file_extension": ".py",
   "mimetype": "text/x-python",
   "name": "python",
   "nbconvert_exporter": "python",
   "pygments_lexer": "ipython3",
   "version": "3.9.0-final"
  },
  "orig_nbformat": 2,
  "kernelspec": {
   "name": "python3",
   "display_name": "Python 3.9.0 64-bit",
   "metadata": {
    "interpreter": {
     "hash": "231a17f392a4dd89dcd7afbec2790d91de603f72d54a0988848d68d84b16032b"
    }
   }
  }
 },
 "nbformat": 4,
 "nbformat_minor": 2,
 "cells": [
  {
   "cell_type": "code",
   "execution_count": null,
   "metadata": {},
   "outputs": [],
   "source": [
    "#uppgift A,B,C\n",
    "import numpy as np\n",
    "\n",
    "x = float(input(\"Ange x: \"))\n",
    "y = float(input(\"Ange y: \"))\n",
    "distans = np.sqrt(x**2 + y**2)\n",
    "\n",
    "print(f\"Avståndet mellan {x, y} och origo är: {distans}\")"
   ]
  },
  {
   "cell_type": "code",
   "execution_count": null,
   "metadata": {},
   "outputs": [],
   "source": [
    "#uppift D\n",
    "import random as rdm\n",
    "\n",
    "print(\"x =\", rdm.uniform(-1, 1))\n",
    "print(\"y =\", rdm.uniform(-1, 1))"
   ]
  },
  {
   "cell_type": "code",
   "execution_count": null,
   "metadata": {
    "tags": []
   },
   "outputs": [],
   "source": [
    "#uppgift E, F\n",
    "import random\n",
    "import numpy as np\n",
    "\n",
    "inne = 0\n",
    "for i in range(10):\n",
    "    x=random.uniform(-1,1)\n",
    "    y=random.uniform(-1,1)\n",
    "    avstånd=np.sqrt(x**2+y**2)\n",
    "    if avstånd < 1:\n",
    "        inne += 1\n",
    "print(inne/(i+1))\n",
    "\n",
    "andel=inne/(i+1)\n",
    "print(andel*4)\n",
    "\n",
    "#Gångrar med 4 så att jag får med uppgift F\n",
    "#Fick 2.4 när jag gångrade med 4\n"
   ]
  },
  {
   "cell_type": "code",
   "execution_count": null,
   "metadata": {},
   "outputs": [],
   "source": [
    "#uppgift G, H\n",
    "import random\n",
    "import numpy as np\n",
    "import matplotlib.pyplot as plt\n",
    "\n",
    "inne = 0\n",
    "for i in range(1000):\n",
    "    x=random.uniform(-1,1)\n",
    "    y=random.uniform(-1,1)\n",
    "    avstånd=np.sqrt(x**2+y**2)\n",
    "    if avstånd < 1: # Printar alla prickar innanför cirkeln\n",
    "        inne += 1\n",
    "        plt.plot(x,y,'co-')\n",
    "    else: # Printar allt utanför\n",
    "        plt.plot(x,y,'ro-')\n",
    "    \n",
    "plt.show()"
   ]
  },
  {
   "cell_type": "code",
   "execution_count": null,
   "metadata": {},
   "outputs": [],
   "source": [
    "#Uppgift A2\n",
    "\n",
    "for i in range(101):\n",
    "    print(i)"
   ]
  },
  {
   "cell_type": "code",
   "execution_count": null,
   "metadata": {},
   "outputs": [],
   "source": [
    "#Uppgift B2\n",
    "\n",
    "burr = int(input(\"Välj multipel\"))\n",
    "\n",
    "for i in range(101):\n",
    "    if i % burr == 0:\n",
    "        print(f\"{i} Burr\")\n",
    "    else:\n",
    "        print(i)"
   ]
  },
  {
   "cell_type": "code",
   "execution_count": null,
   "metadata": {},
   "outputs": [],
   "source": [
    "#Uppgift C2,D2\n",
    "\n",
    "burr = int(input(\"Välj en Burr multipel\"))\n",
    "birr = int(input(\"Välj en Birr multipel\"))\n",
    "\n",
    "for i in range(101):\n",
    "    if i % burr == 0:\n",
    "        print(f\"{i} Burr\")\n",
    "    elif i % birr == 0:\n",
    "        print(f\"{i} Birr\")\n",
    "    else:\n",
    "        print(i)"
   ]
  },
  {
   "cell_type": "code",
   "execution_count": null,
   "metadata": {},
   "outputs": [],
   "source": [
    "#Uppgift E2\n",
    "\n",
    "start = int(input(\"Välj ett startvärde\"))\n",
    "stop = int(input(\"Välj ett stopvärde\"))\n",
    "\n",
    "burr = int(input(\"Välj en Burr multipel\"))\n",
    "birr = int(input(\"Välj en Birr multipel\"))\n",
    "\n",
    "for i in range(start,stop):\n",
    "    if i % burr == 0:\n",
    "        print(f\"{i} Burr\")\n",
    "    elif i % birr == 0:\n",
    "        print(f\"{i} Birr\")\n",
    "    else:\n",
    "        print(i)"
   ]
  },
  {
   "cell_type": "code",
   "execution_count": null,
   "metadata": {},
   "outputs": [],
   "source": [
    "#Uppgift F2\n",
    "#Förklara för en användare kan göra det enklare att förstå funktionen med programmet, det gör det även för andra programmerar som kollar på din kod\n",
    "\n",
    "print(\"Först väljer du ett start- och ett stopvärde, sedan väljer du två multiplar helst olika. Programmet kommer att ta båda multiplarna och leta efter tal som är delbara med ditt tal\")\n",
    "\n",
    "start = int(input(\"Välj ett startvärde\"))\n",
    "stop = int(input(\"Välj ett stopvärde\"))\n",
    "burr = int(input(\"Välj en Burr multipel\"))\n",
    "birr = int(input(\"Välj en Birr multipel\"))\n",
    "\n",
    "for i in range(start,stop):\n",
    "    if i % burr == 0:\n",
    "        print(f\"{i} Burr\")\n",
    "    elif i % birr == 0:\n",
    "        print(f\"{i} Birr!\")\n",
    "    else:\n",
    "        print(i)"
   ]
  },
  {
   "cell_type": "code",
   "execution_count": null,
   "metadata": {},
   "outputs": [],
   "source": []
  }
 ]
}