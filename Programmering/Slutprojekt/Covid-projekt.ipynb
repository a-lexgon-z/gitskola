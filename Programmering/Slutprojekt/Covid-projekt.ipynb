{
 "metadata": {
  "language_info": {
   "codemirror_mode": {
    "name": "ipython",
    "version": 3
   },
   "file_extension": ".py",
   "mimetype": "text/x-python",
   "name": "python",
   "nbconvert_exporter": "python",
   "pygments_lexer": "ipython3",
   "version": "3.8.3"
  },
  "orig_nbformat": 2,
  "kernelspec": {
   "name": "python383jvsc74a57bd0f5a03e724e12e353ca9d8468c323952240fafed31b30771010fa4760ab32ac74",
   "display_name": "Python 3.8.3 32-bit ('base': conda)"
  }
 },
 "nbformat": 4,
 "nbformat_minor": 2,
 "cells": [
  {
   "cell_type": "code",
   "execution_count": null,
   "metadata": {},
   "outputs": [],
   "source": [
    "import pandas as pd                                 # \\\n",
    "import plotly.express as px                         # Importerar moduler för att kunna lösa in\n",
    "import plotly.graph_objects as go                   # filer och printa de i graphs.\n",
    "from plotly.subplots import make_subplots           # /\n",
    "\n",
    "df = pd.read_csv(\"National_Total_Deaths.csv\")       # Löser in filen \"National_Total_Deaths\"\n",
    "df0 = pd.read_csv('National_Deaths.csv')            # Löser in filen \"National_Deaths\"\n",
    "\n",
    "Age = df[\"Age_Group\"]                    # \\\n",
    "Cases = df[\"Total_Cases\"]                # Här skapar jag 4 variabler från filen \"National_Total_Deaths\"\n",
    "Admission = df[\"Total_ICU_Admissions\"]   # Variablerna är till för att kunna åtanvändas senare.\n",
    "Deaths = df[\"Total_Deaths\"]              # /\n",
    "\n",
    "Date = df0[\"Date\"]                       # Här skapar jag yttligare 2 variabler från en annan fil,\n",
    "DDeaths = df0[\"National_Daily_Deaths\"]   # för att kunnas återanvändas flera gånger under kodningen.\n",
    "\n",
    "fig = make_subplots(        # Här skapar jag variablen \"fig\" och denfinierar den för att göra subplots.\n",
    "    rows=5, cols=2,         # Här bestämmer jag hur många rader och kolumner den kommer innehålla.\n",
    "    subplot_titles=(\"Dödsfall per åldersgrupper\", \"Dödsfall om dagen\", \"Antal fall per åldersgrupp\", \"Antal intensivvård per åldersgrupp\", \"Antal fall per antal intensivvård\", \"Antal fall per dag\", \"Antall intensvvård per dag\"),    # Subtitlar för varje graf där jag lagt till en liten beskrivning,\n",
    "                                                                             # till alla grafer.\n",
    "                                # Specs bestämmer hur dina rader och kolumner ska vara strukturerade.\n",
    "    specs=[[{}, {}],                # \"{}, {}\" Det här säger att två grafer ska fylla måsvingarna, \n",
    "        [{}, {}],                   # eftersom det är 2 kolumner så ska båda fyllas i 2 rader.\n",
    "        [{\"colspan\": 2}, None],     # Jag har bestämt så att det är 5 rader och 2 kolumner per rad,\n",
    "        [{\"colspan\": 2}, None],     # vad (\"colspan\": 2) gör är att grafen inuti tar upp plats för 2,\n",
    "        [{\"colspan\": 2}, None]],    # grafer och lägger \"None\" för att visa att kol:2 ska vara tom.\n",
    "    print_grid=False)               # Den här koden används bara för att printa hur strukturen ska se ut\n",
    "\n",
    "fig.add_trace(go.Scatter(x=Age, y=Deaths), row=1, col=1)    # Här skapas 4 \"Scatter\" grafer från de,\n",
    "fig.add_trace(go.Scatter(x=Date, y=DDeaths), row=1, col=2)  # 4 första variablerna i df filen,\n",
    "fig.add_trace(go.Scatter(x=Age, y=Cases), row=2, col=1)     # Sedan bestäms det också i vilken rad och\n",
    "fig.add_trace(go.Scatter(x=Age, y=Admission), row=2, col=2) # kolumn som graferna ska vara i.\n",
    "\n",
    "fig.add_trace(go.Bar(x=Admission, y=Cases), row=3, col=1)   # Istället för \"Scatter\" en \"Bar\" graf\n",
    "\n",
    "fig.add_trace(go.Box(x=Date, y=Cases), row=4, col=1)        # Istället för \"Scatter\" en \"Box\" graf\n",
    "\n",
    "fig.add_trace(go.Line(x=Date, y=Admission), row=5, col=1)   # Istället för \"Scatter\" en \"Line\" graf\n",
    "\n",
    "fig.update_xaxes(tickangle=35, tickfont=dict( size=16)) # Här ändras utseendet på variablerna under\n",
    "                                                        # graferna (Bestämmer text lutning och storlek)\n",
    "fig.update_layout(height=1200, width=900,       # Ändrar storleken på mallen under.\n",
    "    title_text=\"Fyra olika diagram för Covid-19 aktivitet 2019-2021\")   # Ger mallen en huvudrubrik.\n",
    "fig.show()  # Printar ut allt"
   ]
  },
  {
   "cell_type": "code",
   "execution_count": null,
   "metadata": {},
   "outputs": [],
   "source": []
  }
 ]
}