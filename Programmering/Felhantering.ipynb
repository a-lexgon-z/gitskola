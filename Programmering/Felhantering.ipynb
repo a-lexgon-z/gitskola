{
 "metadata": {
  "language_info": {
   "codemirror_mode": {
    "name": "ipython",
    "version": 3
   },
   "file_extension": ".py",
   "mimetype": "text/x-python",
   "name": "python",
   "nbconvert_exporter": "python",
   "pygments_lexer": "ipython3",
   "version": "3.9.5"
  },
  "orig_nbformat": 2,
  "kernelspec": {
   "name": "python395jvsc74a57bd02667517f0e279736ecad027450fc9fdc498b4e9690806c8f73ae53e98475f0aa",
   "display_name": "Python 3.9.5 64-bit"
  },
  "metadata": {
   "interpreter": {
    "hash": "2667517f0e279736ecad027450fc9fdc498b4e9690806c8f73ae53e98475f0aa"
   }
  }
 },
 "nbformat": 4,
 "nbformat_minor": 2,
 "cells": [
  {
   "cell_type": "code",
   "execution_count": 1,
   "metadata": {},
   "outputs": [
    {
     "output_type": "stream",
     "name": "stdout",
     "text": [
      "bog\n"
     ]
    }
   ],
   "source": [
    "print(\"bog\")\n",
    "# Tryck på ESC + L"
   ]
  },
  {
   "cell_type": "code",
   "execution_count": 3,
   "metadata": {},
   "outputs": [
    {
     "output_type": "stream",
     "name": "stdout",
     "text": [
      "Din ålder ska vara mellan 0 och 124\n",
      "Din ålder ska vara mellan 0 och 124\n",
      "Du är vuxen\n"
     ]
    }
   ],
   "source": [
    "while True:\n",
    "    try:\n",
    "        ålder = int(input(\"Hur gammal är du?\"))\n",
    "        # hanterat logiska felet\n",
    "        assert ålder >= 0 and ålder < 125, \"Din ålder ska vara mellan 0 och 124\"\n",
    "        break # hoppar ut från while-satsen\n",
    "    except AssertionError as msg:\n",
    "        print(msg)\n",
    "    except:\n",
    "        print(\"Ålder ska vara ett tal och inte sträng\")\n",
    "\n",
    "\n",
    "if ålder >= 18:\n",
    "    print(\"Du är vuxen\")\n",
    "else:\n",
    "    print(\"Du är barn\")\n",
    "\n",
    "\n"
   ]
  },
  {
   "cell_type": "code",
   "execution_count": 22,
   "metadata": {},
   "outputs": [
    {
     "output_type": "stream",
     "name": "stdout",
     "text": [
      "1.0\n"
     ]
    }
   ],
   "source": [
    "import numpy as np\n",
    "\n",
    "def distance(x, y):\n",
    "    return np.sqrt(x+y)\n",
    "\n",
    "print(distance(0.5,0.5)) # Ta bort \"[ ]\""
   ]
  },
  {
   "cell_type": "code",
   "execution_count": 9,
   "metadata": {},
   "outputs": [
    {
     "output_type": "stream",
     "name": "stdout",
     "text": [
      "100 är inte fyrsiffrigt\n231 är inte fyrsiffrigt\n10000 är inte fyrsiffrigt\n10001 är inte fyrsiffrigt\n-1000 är fyrsiffrigt\n102313 är inte fyrsiffrigt\n9999 är fyrsiffrigt\n-9999 är fyrsiffrigt\n-2924 är fyrsiffrigt\n2924 är fyrsiffrigt\n"
     ]
    }
   ],
   "source": [
    "def ar_fyrsiffrigt(tal):\n",
    "    talet = tal // 1000\n",
    "    if talet == 0:\n",
    "        return False\n",
    "    if talet < 10:\n",
    "        return True\n",
    "    else:\n",
    "        return False\n",
    "\n",
    "# testprogram\n",
    "testtal = [100, 231, 10000, 10001, -1000, 102313, 9999, -9999, -2924, 2924]\n",
    "\n",
    "for t in testtal:\n",
    "    if ar_fyrsiffrigt(t): # fyrsirigt ska vara fyrsiffrigt\n",
    "        print(f\"{t} är fyrsiffrigt\")\n",
    "    else:\n",
    "        print(f\"{t} är inte fyrsiffrigt\")"
   ]
  },
  {
   "cell_type": "code",
   "execution_count": 22,
   "metadata": {},
   "outputs": [
    {
     "output_type": "stream",
     "name": "stdout",
     "text": [
      "Bästa valet skulle vara biljetter: 25\n"
     ]
    }
   ],
   "source": [
    "biljett = 25\n",
    "kort = 1100\n",
    "pengar = tåg(antal)\n",
    "\n",
    "while True:\n",
    "    try:\n",
    "        antal = int(input(\"25kr per resa. Hur många resor ska du ta?\"))\n",
    "        break\n",
    "    except:\n",
    "        fortsätt = input(\"Ange gärna gilltliga siffror\")\n",
    "        if fortsätt == 'N' or 'n':\n",
    "                break\n",
    "\n",
    "def tåg(antal):\n",
    "    return(biljett*antal)\n",
    "if pengar > 1100:\n",
    "    print(f\"Bästa valet skulle vara månadskort: {kort}\")\n",
    "else:\n",
    "    print(f\"Bästa valet skulle vara biljetter: {biljett}\")"
   ]
  },
  {
   "cell_type": "code",
   "execution_count": 1,
   "metadata": {},
   "outputs": [],
   "source": [
    "import plotly"
   ]
  },
  {
   "cell_type": "code",
   "execution_count": null,
   "metadata": {},
   "outputs": [],
   "source": []
  }
 ]
}