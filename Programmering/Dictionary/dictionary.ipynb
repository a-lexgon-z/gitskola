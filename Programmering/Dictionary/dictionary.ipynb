{
 "metadata": {
  "language_info": {
   "codemirror_mode": {
    "name": "ipython",
    "version": 3
   },
   "file_extension": ".py",
   "mimetype": "text/x-python",
   "name": "python",
   "nbconvert_exporter": "python",
   "pygments_lexer": "ipython3",
   "version": "3.9.2-final"
  },
  "orig_nbformat": 2,
  "kernelspec": {
   "name": "python3",
   "display_name": "Python 3.9.2 32-bit",
   "metadata": {
    "interpreter": {
     "hash": "74fa090838ef1d53f32e49f6a6cda497974b5b28c830f61d6e94fe6095182079"
    }
   }
  }
 },
 "nbformat": 4,
 "nbformat_minor": 2,
 "cells": [
  {
   "cell_type": "code",
   "execution_count": null,
   "metadata": {},
   "outputs": [],
   "source": [
    "# syntax med dict()\n",
    "person = dict(\n",
    "    namn = \"Pog\",\n",
    "    ålder = 33,\n",
    "    yrke = \"bruh\",\n",
    "    arbetsplats = \"Ok\"\n",
    ")\n",
    "\n",
    "print(person)\n",
    "print(f\"Personens namn är {person['namn']}\")\n",
    "print(f\"Han är {person['ålder']} år gammal\")"
   ]
  },
  {
   "cell_type": "code",
   "execution_count": null,
   "metadata": {},
   "outputs": [],
   "source": [
    "# syntax med måsvingar {}\n",
    "glosor = {\n",
    "    \"tilldela\":\"ge ett värde till en variabel\",\n",
    "    \"datastruktur\":\"struktuering av data\",\n",
    "    \"sträng\": \"sekvens av tecken\"\n",
    "}\n",
    "#lägga till element i dictionary\n",
    "glosor[\"dictionary\"] = \"datastruktur för att spara data i key:value par\"\n",
    "\n",
    "print(\"Orden vi ska lära oss är: \")\n",
    "# literar över nyckel, värde i dictionary\n",
    "for key in glosor:\n",
    "    print(key, end=\", \")\n",
    "\n",
    "print(\"\\n\\nGlosa \\t Betydelse\")\n",
    "for key, value in glosor.items():\n",
    "    print(f\"{key}  \\t  {value}\")"
   ]
  },
  {
   "cell_type": "code",
   "execution_count": null,
   "metadata": {},
   "outputs": [],
   "source": [
    "husdjur = {\n",
    "    \"djur\": \"fisk\",\n",
    "    \"ålder\": 5,\n",
    "    \"ätbar\": False,\n",
    "    \"actions\": [\"simma fram\", \"simma bak\", \"simma höger\"]\n",
    "}\n",
    "\n",
    "print{husdjur[husdjur[1]}"
   ]
  },
  {
   "cell_type": "code",
   "execution_count": 66,
   "metadata": {},
   "outputs": [
    {
     "output_type": "stream",
     "name": "stdout",
     "text": [
      "{'svenska': 100, 'idrott': 100, 'prog': 100, 'test': 50} \n",
      " Totalt: 350\n"
     ]
    }
   ],
   "source": [
    "# Dictionary upp 1.\n",
    "\n",
    "kurser = {\n",
    "    \"svenska\": 100,\n",
    "    \"idrott\": 100,\n",
    "    \"prog\": 100,\n",
    "    \"test\": 50,\n",
    "}\n",
    "total = 0\n",
    "for i in kurser.values():\n",
    "    total += i\n",
    "\n",
    "print(kurser,\"\\n\", \"Totalt:\", total)"
   ]
  },
  {
   "cell_type": "code",
   "execution_count": 95,
   "metadata": {
    "tags": []
   },
   "outputs": [
    {
     "output_type": "stream",
     "name": "stdout",
     "text": [
      "Antal tärningskast:\n \nEttor: 16561 \nTvåor: 16417 \nTreor: 16748 \nFyror: 16581 \nFemmor: 16895 \nSexor: 16819\n"
     ]
    }
   ],
   "source": [
    "# Dictionary upp 2.\n",
    "import random as rm\n",
    "\n",
    "tärningar = {\n",
    "    \"Ettor\": 1,\n",
    "    \"Tvåor\": 2,\n",
    "    \"Treor\": 3,\n",
    "    \"Fyror\": 4,\n",
    "    \"Femmor\": 5,\n",
    "    \"Sexor\": 6,\n",
    "}\n",
    "\n",
    "for i in range(100000):\n",
    "    kast = rm.randint(1,6)\n",
    "    if kast == 1:\n",
    "        tärningar[\"Ettor\"] += 1\n",
    "    elif kast == 2:\n",
    "        tärningar[\"Tvåor\"] += 1\n",
    "    elif kast == 3:\n",
    "        tärningar[\"Treor\"] += 1\n",
    "    elif kast == 4:\n",
    "        tärningar[\"Fyror\"] += 1\n",
    "    elif kast == 5:\n",
    "        tärningar[\"Femmor\"] += 1\n",
    "    else:\n",
    "        tärningar[\"Sexor\"] += 1\n",
    "    \n",
    "    \n",
    "\n",
    "print(\"Antal tärningskast:\\n\",\"\\nEttor:\",tärningar[\"Ettor\"],\"\\nTvåor:\",tärningar[\"Tvåor\"],\"\\nTreor:\",tärningar[\"Treor\"],\"\\nFyror:\",tärningar[\"Fyror\"],\"\\nFemmor:\",tärningar[\"Femmor\"],\"\\nSexor:\",tärningar[\"Sexor\"])"
   ]
  },
  {
   "cell_type": "code",
   "execution_count": null,
   "metadata": {},
   "outputs": [],
   "source": [
    "# Dictionary upp 3.\n",
    "\n"
   ]
  }
 ]
}