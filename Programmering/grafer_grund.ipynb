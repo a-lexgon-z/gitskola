{
 "metadata": {
  "language_info": {
   "codemirror_mode": {
    "name": "ipython",
    "version": 3
   },
   "file_extension": ".py",
   "mimetype": "text/x-python",
   "name": "python",
   "nbconvert_exporter": "python",
   "pygments_lexer": "ipython3",
   "version": "3.9.0-final"
  },
  "orig_nbformat": 2,
  "kernelspec": {
   "name": "python3",
   "display_name": "Python 3.9.0 64-bit",
   "metadata": {
    "interpreter": {
     "hash": "231a17f392a4dd89dcd7afbec2790d91de603f72d54a0988848d68d84b16032b"
    }
   }
  }
 },
 "nbformat": 4,
 "nbformat_minor": 2,
 "cells": [
  {
   "cell_type": "code",
   "execution_count": null,
   "metadata": {},
   "outputs": [],
   "source": [
    "import matplotlib.pyplot as plt\n",
    "\n",
    "\n",
    "t = [0,1,2,3,4,5]\n",
    "s = [0,800,1600,2400,3200,4000]\n",
    "\n",
    "plt.plot(t,s, 'o-')\n",
    "plt.xlabel(\"Tiden i timmar\")\n",
    "plt.ylabel(\"Sträcka i timmar\")\n",
    "plt.title(\"s-t diagram för ett flygplan med konstant hastighet\")\n",
    "plt.show()\n"
   ]
  },
  {
   "cell_type": "code",
   "execution_count": null,
   "metadata": {},
   "outputs": [],
   "source": [
    "import numpy as np\n",
    "import matplotlib.pyplot as plt\n",
    "\n",
    "x = np.arange(6)\n",
    "y = 800*x\n",
    "print(x)\n",
    "print(y)\n",
    "\n",
    "plt.plot(x,y, 'o-')\n",
    "plt.xlabel(\"Tiden i timmar\")\n",
    "plt.ylabel(\"Sträcka i timmar\")\n",
    "plt.title(\"s-t diagram för ett flygplan med konstant hastighet\")\n",
    "plt.show()\n"
   ]
  },
  {
   "cell_type": "code",
   "execution_count": null,
   "metadata": {},
   "outputs": [],
   "source": []
  }
 ]
}