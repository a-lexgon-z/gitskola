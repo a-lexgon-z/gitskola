{
 "metadata": {
  "language_info": {
   "codemirror_mode": {
    "name": "ipython",
    "version": 3
   },
   "file_extension": ".py",
   "mimetype": "text/x-python",
   "name": "python",
   "nbconvert_exporter": "python",
   "pygments_lexer": "ipython3",
   "version": "3.8.3-final"
  },
  "orig_nbformat": 2,
  "kernelspec": {
   "name": "python3",
   "display_name": "Python 3"
  }
 },
 "nbformat": 4,
 "nbformat_minor": 2,
 "cells": [
  {
   "cell_type": "code",
   "execution_count": null,
   "metadata": {},
   "outputs": [],
   "source": [
    "#a1 = första talet a1 = 1\n",
    "#an = sista tal an = 5\n",
    "#n - antalet som vi ska addera n = 5\n",
    "#summan = 15\n",
    "#s = n(a1+an)/2\n",
    "#aritmetisk_summa(1,5,5)\n",
    "#1a\n"
   ]
  },
  {
   "cell_type": "code",
   "execution_count": 13,
   "metadata": {},
   "outputs": [
    {
     "output_type": "stream",
     "name": "stdout",
     "text": [
      "5.0\n"
     ]
    }
   ],
   "source": [
    "import math\n",
    "\n",
    "def Pythagoras_hypotenusa(katet1, katet2):\n",
    "    hypotenusa = math.sqrt(katet1**2 + katet2**2)\n",
    "    return hypotenusa\n",
    "\n",
    "hypotenusa = Pythagoras_hypotenusa(3,4)\n",
    "print(hypotenusa)"
   ]
  },
  {
   "cell_type": "code",
   "execution_count": null,
   "metadata": {},
   "outputs": [],
   "source": []
  }
 ]
}