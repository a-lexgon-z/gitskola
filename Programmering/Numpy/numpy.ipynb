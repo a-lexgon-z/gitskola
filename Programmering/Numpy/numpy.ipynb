{
 "metadata": {
  "language_info": {
   "codemirror_mode": {
    "name": "ipython",
    "version": 3
   },
   "file_extension": ".py",
   "mimetype": "text/x-python",
   "name": "python",
   "nbconvert_exporter": "python",
   "pygments_lexer": "ipython3",
   "version": "3.9.2-final"
  },
  "orig_nbformat": 2,
  "kernelspec": {
   "name": "python3",
   "display_name": "Python 3.9.2 32-bit",
   "metadata": {
    "interpreter": {
     "hash": "74fa090838ef1d53f32e49f6a6cda497974b5b28c830f61d6e94fe6095182079"
    }
   }
  }
 },
 "nbformat": 4,
 "nbformat_minor": 2,
 "cells": [
  {
   "cell_type": "code",
   "execution_count": 23,
   "metadata": {},
   "outputs": [
    {
     "output_type": "stream",
     "name": "stdout",
     "text": [
      "Array: [1 2 3 4]\nLista: [1, 2, 3, 4]\n3\n[2 4 6 8]\n[1, 2, 3, 4, 1, 2, 3, 4]\n[ 1  4  9 16]\n"
     ]
    }
   ],
   "source": [
    "import numpy as np\n",
    "\n",
    "array1 = np.array([1,2,3,4])\n",
    "\n",
    "lista1 = [1,2,3,4]\n",
    "\n",
    "print(f\"Array: {array1}\")\n",
    "print(f\"Lista: {lista1}\")\n",
    "\n",
    "print(array1[2])\n",
    "\n",
    "# multiplicera alla tal med 2\n",
    "array2 = array1*2\n",
    "print(array2)\n",
    "\n",
    "lista2 = lista1*2\n",
    "print(lista2)\n",
    "\n",
    "kvadrater = array1**2\n",
    "print(kvadrater)"
   ]
  },
  {
   "cell_type": "code",
   "execution_count": 48,
   "metadata": {},
   "outputs": [
    {
     "output_type": "stream",
     "name": "stdout",
     "text": [
      "A:\n[ 1  2  3  4  5  6  7  8  9 10]\nB:\n[-11 -10  -9  -8  -7  -6  -5  -4  -3  -2  -1   0   1   2   3   4   5   6\n   7   8   9  10]\n"
     ]
    }
   ],
   "source": [
    "import numpy as np\n",
    "# Uppgift 1\n",
    "# A:\n",
    "array = np.arange(1,11)\n",
    "print(f\"A:\\n{array}\")\n",
    "\n",
    "# B:\n",
    "array1 = np.arange(-11,11)\n",
    "print(f\"B:\\n{array1}\")\n"
   ]
  },
  {
   "cell_type": "code",
   "execution_count": 53,
   "metadata": {},
   "outputs": [
    {
     "output_type": "stream",
     "name": "stdout",
     "text": [
      "[ 10  20  30  40  50  60  70  80  90 100]\n[ 100  200  300  400  500  600  700  800  900 1000]\n"
     ]
    }
   ],
   "source": [
    "import numpy as np\n",
    "# Uppgift 2\n",
    "\n",
    "array = np.arange(10,110,10)\n",
    "print(array)\n",
    "\n",
    "tio = array*10\n",
    "print(tio)"
   ]
  },
  {
   "cell_type": "code",
   "execution_count": 58,
   "metadata": {},
   "outputs": [
    {
     "output_type": "error",
     "ename": "NameError",
     "evalue": "name 'x' is not defined",
     "traceback": [
      "\u001b[1;31m---------------------------------------------------------------------------\u001b[0m",
      "\u001b[1;31mNameError\u001b[0m                                 Traceback (most recent call last)",
      "\u001b[1;32m<ipython-input-58-26eec3ba736d>\u001b[0m in \u001b[0;36m<module>\u001b[1;34m\u001b[0m\n\u001b[0;32m      1\u001b[0m \u001b[1;32mimport\u001b[0m \u001b[0mmatplotlib\u001b[0m\u001b[1;33m.\u001b[0m\u001b[0mpyplot\u001b[0m \u001b[1;32mas\u001b[0m \u001b[0mplt\u001b[0m\u001b[1;33m\u001b[0m\u001b[1;33m\u001b[0m\u001b[0m\n\u001b[0;32m      2\u001b[0m \u001b[1;33m\u001b[0m\u001b[0m\n\u001b[1;32m----> 3\u001b[1;33m \u001b[0marray\u001b[0m \u001b[1;33m=\u001b[0m \u001b[1;33m(\u001b[0m\u001b[1;33m[\u001b[0m\u001b[1;36m0\u001b[0m\u001b[1;33m,\u001b[0m \u001b[0mx\u001b[0m\u001b[1;33m,\u001b[0m \u001b[1;36m10\u001b[0m\u001b[1;33m]\u001b[0m\u001b[1;33m)\u001b[0m\u001b[1;33m\u001b[0m\u001b[1;33m\u001b[0m\u001b[0m\n\u001b[0m\u001b[0;32m      4\u001b[0m \u001b[1;33m\u001b[0m\u001b[0m\n\u001b[0;32m      5\u001b[0m \u001b[0mplt\u001b[0m\u001b[1;33m.\u001b[0m\u001b[0mplot\u001b[0m\u001b[1;33m(\u001b[0m\u001b[0marray\u001b[0m\u001b[1;33m)\u001b[0m\u001b[1;33m\u001b[0m\u001b[1;33m\u001b[0m\u001b[0m\n",
      "\u001b[1;31mNameError\u001b[0m: name 'x' is not defined"
     ]
    }
   ],
   "source": [
    "import matplotlib.pyplot as plt\n",
    "\n",
    "array = ([0, , 10])\n",
    "\n",
    "plt.plot(array)\n",
    "plt.xlabel(\"X\")\n",
    "plt.ylabel(\"Y\")\n",
    "plt.show()"
   ]
  },
  {
   "cell_type": "code",
   "execution_count": null,
   "metadata": {},
   "outputs": [],
   "source": []
  }
 ]
}