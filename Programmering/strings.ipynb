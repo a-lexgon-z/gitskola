{
 "metadata": {
  "language_info": {
   "codemirror_mode": {
    "name": "ipython",
    "version": 3
   },
   "file_extension": ".py",
   "mimetype": "text/x-python",
   "name": "python",
   "nbconvert_exporter": "python",
   "pygments_lexer": "ipython3",
<<<<<<< HEAD
   "version": 3
  },
  "orig_nbformat": 2
=======
   "version": "3.8.3-final"
  },
  "orig_nbformat": 2,
  "kernelspec": {
   "name": "python3",
   "display_name": "Python 3"
  }
>>>>>>> 55b2d74907e17212f6a44e0f3fe17ecef497c0a3
 },
 "nbformat": 4,
 "nbformat_minor": 2,
 "cells": [
  {
   "cell_type": "code",
<<<<<<< HEAD
   "execution_count": null,
   "metadata": {},
   "outputs": [],
   "source": [
    "namn = int(input(\"Skriv ett namn\"))\n",
    "print(namn)"
=======
   "execution_count": 2,
   "metadata": {},
   "outputs": [
    {
     "output_type": "stream",
     "name": "stdout",
     "text": [
      "3\n"
     ]
    }
   ],
   "source": [
    "namn = input(\"\")\n",
    "\n",
    "print(len(namn))"
   ]
  },
  {
   "cell_type": "code",
   "execution_count": 4,
   "metadata": {},
   "outputs": [
    {
     "output_type": "stream",
     "name": "stdout",
     "text": [
      "15\n"
     ]
    }
   ],
   "source": [
    "mening = \"En bild säger mer än tusen ord, en matematisk formel säger mer än tusen bilder\"\n",
    "total = mening.split()\n",
    "\n",
    "print(len(total))"
   ]
  },
  {
   "cell_type": "code",
   "execution_count": 82,
   "metadata": {},
   "outputs": [
    {
     "output_type": "stream",
     "name": "stdout",
     "text": [
      "RACECAR är en palindrom\n"
     ]
    }
   ],
   "source": [
    "pd = input(\"\").upper().replace(\" \", \"\")\n",
    "\n",
    "if list(pd) == list(reversed(pd)):\n",
    "    print(\"{} är en palindrom\".format(pd))\n",
    "else:\n",
    "    print(\"{} är inte en palindrom\".format(pd))"
>>>>>>> 55b2d74907e17212f6a44e0f3fe17ecef497c0a3
   ]
  },
  {
   "cell_type": "code",
   "execution_count": null,
   "metadata": {},
   "outputs": [],
   "source": []
  }
 ]
}