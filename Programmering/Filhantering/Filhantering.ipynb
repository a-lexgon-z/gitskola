{
 "metadata": {
  "language_info": {
   "codemirror_mode": {
    "name": "ipython",
    "version": 3
   },
   "file_extension": ".py",
   "mimetype": "text/x-python",
   "name": "python",
   "nbconvert_exporter": "python",
   "pygments_lexer": "ipython3",
   "version": "3.8.3-final"
  },
  "orig_nbformat": 2,
  "kernelspec": {
   "name": "python3",
   "display_name": "Python 3",
   "language": "python"
  }
 },
 "nbformat": 4,
 "nbformat_minor": 2,
 "cells": [
  {
   "cell_type": "code",
   "execution_count": 53,
   "metadata": {},
   "outputs": [],
   "source": [
    "#Uppgift 1\n",
    "\n",
    "from random\n",
    "\n",
    "with open(\"diceRoll.txt\", \"w\") as f1:\n",
    "    kast = [rm(1, 6) for i in range(10)]\n",
    "    pog = sorted(kast)\n",
    "    poggers = kast.count(5)\n",
    "\n",
    "    f1.write(str(f\"Simulering: {kast}\"))\n",
    "    f1.write(str(f\"\\nKastet sorterat: {pog} \"))\n",
    "    f1.write(str(f\"\\nAntalet femmor: {poggers}\"))\n"
   ]
  },
  {
   "cell_type": "code",
   "execution_count": 10,
   "metadata": {},
   "outputs": [
    {
     "output_type": "stream",
     "name": "stdout",
     "text": [
      "F\nFredrika Ulven 10, \nSven Erik Karlsson 13\n\nE\nAdam Gustafsson 25, \nEmil Johansson 23, \nHanna Karlsson 23, \nHÃ¥kan HÃ¥kanson 24, \nIda HÃ¥kansson 23\n\nD\nBjÃ¶rn BjÃ¶rnsson 39, \nBose Bosseson 32, \nEmma Boden 32, \nErik Eriksson 31, \nJonas Jonasson 31, \nKarl Karlsson 32, \nSven Erik Lundin 39\n\nC\nElla Ester 41, \nJohan Johansson 42, \nOve Karlsten 41\n\nB\nGore Bord 55\n\nA\nJakob Kallander 65\n\nless go\n"
     ]
    }
   ],
   "source": [
    "#Uppgift 2\n",
    "avengers = []\n",
    "\n",
    "with open(\"Provresultat.txt\", \"r\") as file:\n",
    "    pog = file.readlines()\n",
    "    pog.sort()\n",
    "    thanos = avengers[-2:]\n",
    "\n",
    "    D1 = []\n",
    "    A2 = []\n",
    "    B3 = []\n",
    "    A4 = []\n",
    "    B5 = []\n",
    "    Y6 = []\n",
    "\n",
    "    for avengers in pog:\n",
    "        avengers = avengers.strip('\\n ')\n",
    "        if str(avengers[-2:]) <= str(20):\n",
    "            D1.append(avengers)\n",
    "        elif str(avengers[-2:]) <= str(29):\n",
    "            A2.append(avengers)\n",
    "        elif str(avengers[-2:]) <= str(39):\n",
    "            B3.append(avengers)\n",
    "        elif str(avengers[-2:]) <= str(49):\n",
    "            A4.append(avengers)\n",
    "        elif str(avengers[-2:]) <= str(59):\n",
    "            B5.append(avengers)\n",
    "        else:\n",
    "            Y6.append(avengers)\n",
    "    \n",
    "    print(\"F\")\n",
    "    print(\", \\n\".join(D1))\n",
    "    print(\"\\nE\")\n",
    "    print(\", \\n\".join(A2))\n",
    "    print(\"\\nD\")\n",
    "    print(\", \\n\".join(B3))\n",
    "    print(\"\\nC\")\n",
    "    print(\", \\n\".join(A4))\n",
    "    print(\"\\nB\")\n",
    "    print(\", \\n\".join(B5))\n",
    "    print(\"\\nA\")\n",
    "    print(\", \\n\".join(Y6))\n",
    "\n",
    "    #Yo min print kinda cleann (ignorera kodningen)\n",
    "    #help\n",
    "    print(\"\\nless go\")"
   ]
  },
  {
   "cell_type": "code",
   "execution_count": null,
   "metadata": {},
   "outputs": [],
   "source": []
  }
 ]
}