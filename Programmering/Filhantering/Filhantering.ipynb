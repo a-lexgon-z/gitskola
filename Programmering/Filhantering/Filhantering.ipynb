{
 "metadata": {
  "language_info": {
   "codemirror_mode": {
    "name": "ipython",
    "version": 3
   },
   "file_extension": ".py",
   "mimetype": "text/x-python",
   "name": "python",
   "nbconvert_exporter": "python",
   "pygments_lexer": "ipython3",
   "version": "3.8.3-final"
  },
  "orig_nbformat": 2,
  "kernelspec": {
   "name": "python3",
   "display_name": "Python 3.8.3 32-bit (conda)",
   "metadata": {
    "interpreter": {
     "hash": "f5a03e724e12e353ca9d8468c323952240fafed31b30771010fa4760ab32ac74"
    }
   }
  }
 },
 "nbformat": 4,
 "nbformat_minor": 2,
 "cells": [
  {
   "cell_type": "code",
   "execution_count": 12,
   "metadata": {},
   "outputs": [],
   "source": [
    "import numpy\n",
    "\n",
    "kast = [str(rm(1, 6)) for i in range(10)]\n",
    "with open(\"diceRoll.txt\", \"w\") as f1:\n",
    "    for tal in kast:\n",
    "        f1.write(f\"{tal} \")"
   ]
  },
  {
   "cell_type": "code",
   "execution_count": null,
   "metadata": {},
   "outputs": [],
   "source": []
  }
 ]
}