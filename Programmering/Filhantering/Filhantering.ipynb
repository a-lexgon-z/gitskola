{
 "metadata": {
  "language_info": {
   "codemirror_mode": {
    "name": "ipython",
    "version": 3
   },
   "file_extension": ".py",
   "mimetype": "text/x-python",
   "name": "python",
   "nbconvert_exporter": "python",
   "pygments_lexer": "ipython3",
   "version": "3.8.3-final"
  },
  "orig_nbformat": 2,
  "kernelspec": {
   "name": "python3",
   "display_name": "Python 3.8.3 32-bit (conda)",
   "metadata": {
    "interpreter": {
     "hash": "f5a03e724e12e353ca9d8468c323952240fafed31b30771010fa4760ab32ac74"
    }
   }
  }
 },
 "nbformat": 4,
 "nbformat_minor": 2,
 "cells": [
  {
   "cell_type": "code",
   "execution_count": 53,
   "metadata": {},
   "outputs": [],
   "source": [
    "#Uppgift 1\n",
    "\n",
    "from random import randint as rm\n",
    "\n",
    "with open(\"diceRoll.txt\", \"w\") as f1:\n",
    "    kast = [rm(1, 6) for i in range(10)]\n",
    "    pog = sorted(kast)\n",
    "    poggers = kast.count(5)\n",
    "\n",
    "    f1.write(str(f\"Simulering: {kast}\"))\n",
    "    f1.write(str(f\"\\nKastet sorterat: {pog} \"))\n",
    "    f1.write(str(f\"\\nAntalet femmor: {poggers}\"))\n"
   ]
  },
  {
   "cell_type": "code",
   "execution_count": 95,
   "metadata": {},
   "outputs": [
    {
     "output_type": "stream",
     "name": "stdout",
     "text": [
      "['Adam Gustafsson 25\\n', 'BjÃ¶rn BjÃ¶rnsson 39\\n', 'Bose Bosseson 32\\n', 'Ella Ester 41\\n', 'Emil Johansson 23\\n', 'Emma Boden 32\\n', 'Erik Eriksson 31\\n', 'Fredrika Ulven 10', 'Gore Bord 55\\n', 'Hanna Karlsson 23 \\n', 'HÃ¥kan HÃ¥kanson 24\\n', 'Ida HÃ¥kansson 23\\n', 'Jakob Kallander 65\\n', 'Johan Johansson 42\\n', 'Jonas Jonasson 31\\n', 'Karl Karlsson 32\\n', 'Ove Karlsten 41\\n', 'Sven Erik Karlsson 13\\n', 'Sven Erik Lundin 39\\n']\n"
     ]
    }
   ],
   "source": [
    "#Uppgift 2\n",
    "\n",
    "with open(\"Provresultat.txt\", \"r\") as file:\n",
    "    pog = file.readlines()\n",
    "    pog.sort()\n",
    "\n",
    "    for avengers in pog:\n",
    "        avengers = avengers.strip('\\n ')\n",
    "print(pog)"
   ]
  },
  {
   "cell_type": "code",
   "execution_count": null,
   "metadata": {},
   "outputs": [],
   "source": []
  }
 ]
}