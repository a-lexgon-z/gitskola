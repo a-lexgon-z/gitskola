{
 "metadata": {
  "language_info": {
   "codemirror_mode": {
    "name": "ipython",
    "version": 3
   },
   "file_extension": ".py",
   "mimetype": "text/x-python",
   "name": "python",
   "nbconvert_exporter": "python",
   "pygments_lexer": "ipython3",
   "version": "3.9.2-final"
  },
  "orig_nbformat": 2,
  "kernelspec": {
   "name": "python3",
   "display_name": "Python 3.9.2 32-bit",
   "metadata": {
    "interpreter": {
     "hash": "74fa090838ef1d53f32e49f6a6cda497974b5b28c830f61d6e94fe6095182079"
    }
   }
  }
 },
 "nbformat": 4,
 "nbformat_minor": 2,
 "cells": [
  {
   "cell_type": "code",
   "execution_count": 3,
   "metadata": {},
   "outputs": [
    {
     "output_type": "stream",
     "name": "stdout",
     "text": [
      "{'namn': 'Pog', 'ålder': 33, 'yrke': 'bruh', 'arbetsplats': 'Ok'}\nPersonens namn är Pog\n"
     ]
    }
   ],
   "source": [
    "# syntax med dict()\n",
    "person = dict(\n",
    "    namn = \"Pog\",\n",
    "    ålder = 33,\n",
    "    yrke = \"bruh\",\n",
    "    arbetsplats = \"Ok\"\n",
    ")\n",
    "\n",
    "print(person)\n",
    "print(f\"Personens namn är {person['namn']}\")\n",
    "print(f\"Han är {person['ålder']} år gammal\")"
   ]
  },
  {
   "cell_type": "code",
   "execution_count": 9,
   "metadata": {},
   "outputs": [
    {
     "output_type": "stream",
     "name": "stdout",
     "text": [
      "Orden vi ska lära oss är: \ntilldela, datastruktur, sträng, dictionary, \n\nGlosa \t Betydelse\ntilldela  \t  ge ett värde till en variabel\ndatastruktur  \t  struktuering av data\nsträng  \t  sekvens av tecken\ndictionary  \t  datastruktur för att spara data i key:value par\n"
     ]
    }
   ],
   "source": [
    "# syntax med måsvingar {}\n",
    "glosor = {\n",
    "    \"tilldela\":\"ge ett värde till en variabel\",\n",
    "    \"datastruktur\":\"struktuering av data\",\n",
    "    \"sträng\": \"sekvens av tecken\"\n",
    "}\n",
    "#lägga till element i dictionary\n",
    "glosor[\"dictionary\"] = \"datastruktur för att spara data i key:value par\"\n",
    "\n",
    "print(\"Orden vi ska lära oss är: \")\n",
    "# literar över nyckel, värde i dictionary\n",
    "for key in glosor:\n",
    "    print(key, end=\", \")\n",
    "\n",
    "print(\"\\n\\nGlosa \\t Betydelse\")\n",
    "for key, value in glosor.items():\n",
    "    print(f\"{key}  \\t  {value}\")"
   ]
  },
  {
   "cell_type": "code",
   "execution_count": null,
   "metadata": {},
   "outputs": [],
   "source": []
  }
 ]
}